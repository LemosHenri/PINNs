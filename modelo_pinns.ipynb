{
 "cells": [
  {
   "cell_type": "code",
   "execution_count": 1,
   "metadata": {},
   "outputs": [],
   "source": [
    "import torch\n",
    "import matplotlib.pyplot as plt \n",
    "import numpy as np"
   ]
  },
  {
   "cell_type": "code",
   "execution_count": 12,
   "metadata": {},
   "outputs": [],
   "source": [
    "class NeuralNetwork(torch.nn.Module):\n",
    "\n",
    "    def __init__(self, n_inputs: int, n_layers: int, n_neurons: int, n_output: int, act):\n",
    "        super().__init__()\n",
    "\n",
    "        self.n_inputs = n_inputs \n",
    "        self.n_layers = n_layers\n",
    "        self.n_neurons = n_neurons\n",
    "\n",
    "        layers = []\n",
    "\n",
    "        layers.append( torch.nn.Linear(n_inputs, n_neurons))\n",
    "        for i in range(n_layers): layers.extend( [torch.nn.Linear(n_neurons,n_neurons), act])\n",
    "        layers.append(torch.nn.Linear(n_neurons, n_output))\n",
    "\n",
    "        self.network = torch.nn.Sequential(*layers)\n",
    "\n",
    "    def forward(self, x: torch.Tensor) -> torch.Tensor:\n",
    "        return self.network(x).squeeze()    \n",
    "    \n",
    "class PINNs:\n",
    "\n",
    "    model: NeuralNetwork\n",
    "    residual_function: None\n",
    "    loss_function: None\n",
    "\n",
    "    def __init__(self, \n",
    "                n_inputs: int,\n",
    "                n_layers: int, \n",
    "                n_neurons: int, \n",
    "                n_outputs: int, \n",
    "                activation_func,\n",
    "                residual_func,\n",
    "                loss_function):\n",
    "        \n",
    "        self.model = NeuralNetwork(n_inputs, n_layers, n_neurons, n_outputs, activation_func)\n",
    "        self.residual_function = residual_func\n",
    "        self.loss_function = loss_function\n",
    "\n",
    "    def __call__(self, input):\n",
    "        return self.model(input)\n",
    "    \n",
    "    \n",
    "      "
   ]
  },
  {
   "cell_type": "code",
   "execution_count": 13,
   "metadata": {},
   "outputs": [
    {
     "data": {
      "text/plain": [
       "torch.nn.modules.loss.MSELoss"
      ]
     },
     "execution_count": 13,
     "metadata": {},
     "output_type": "execute_result"
    }
   ],
   "source": [
    "#PARAMETROS\n",
    "D = 0.0013\n",
    "p = 0.453\n",
    "L = 2\n",
    "c0 = 8e5\n",
    "alpha = 0.0305\n",
    "alpha_beta = 10.0\n",
    "\n",
    "Dl = D / (p * L**2)\n",
    "\n",
    "#DOMINIO ESPACIAL E TEMPORAL\n",
    "x_dom = (0, 1)\n",
    "t_dom = (0, 100)\n",
    "\n",
    "def DifusaoReacao_sem_tratamento(x, t, model):\n",
    "    pass \n",
    "\n",
    "def DifusaoReacao_com_tratamento(x, t, model):\n",
    "    pass"
   ]
  },
  {
   "cell_type": "code",
   "execution_count": 16,
   "metadata": {},
   "outputs": [
    {
     "data": {
      "text/plain": [
       "0.22272756695747375"
      ]
     },
     "execution_count": 16,
     "metadata": {},
     "output_type": "execute_result"
    }
   ],
   "source": [
    "model = PINNs(\n",
    "    n_inputs = 2,\n",
    "    n_layers = 3,\n",
    "    n_neurons = 20,\n",
    "    n_outputs = 1,\n",
    "    activation_func = torch.nn.Tanh(),\n",
    "    residual_func = DifusaoReacao_sem_tratamento,\n",
    "    loss_function = torch.nn.MSELoss,\n",
    ")\n",
    "\n",
    "model(torch.tensor([0.1, 0.2]))"
   ]
  },
  {
   "cell_type": "code",
   "execution_count": null,
   "metadata": {},
   "outputs": [],
   "source": []
  }
 ],
 "metadata": {
  "kernelspec": {
   "display_name": "Python 3",
   "language": "python",
   "name": "python3"
  },
  "language_info": {
   "codemirror_mode": {
    "name": "ipython",
    "version": 3
   },
   "file_extension": ".py",
   "mimetype": "text/x-python",
   "name": "python",
   "nbconvert_exporter": "python",
   "pygments_lexer": "ipython3",
   "version": "3.10.12"
  }
 },
 "nbformat": 4,
 "nbformat_minor": 2
}
